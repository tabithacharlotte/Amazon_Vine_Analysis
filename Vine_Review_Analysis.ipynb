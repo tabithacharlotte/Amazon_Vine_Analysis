{
  "nbformat": 4,
  "nbformat_minor": 0,
  "metadata": {
    "colab": {
      "name": "Vine_Review_Analysis.ipynb",
      "provenance": [],
      "collapsed_sections": []
    },
    "kernelspec": {
      "display_name": "PythonData",
      "language": "python",
      "name": "pythondata"
    },
    "language_info": {
      "codemirror_mode": {
        "name": "ipython",
        "version": 3
      },
      "file_extension": ".py",
      "mimetype": "text/x-python",
      "name": "python",
      "nbconvert_exporter": "python",
      "pygments_lexer": "ipython3",
      "version": "3.7.7"
    },
    "nteract": {
      "version": "0.12.3"
    }
  },
  "cells": [
    {
      "cell_type": "code",
      "metadata": {
        "id": "V58rxea0HqSa",
        "outputId": "a527302f-ba67-4faf-e16f-0ca0f34e2bea",
        "colab": {
          "base_uri": "https://localhost:8080/"
        }
      },
      "source": [
        "import os\n",
        "# Find the latest version of spark 2.0  from http://www-us.apache.org/dist/spark/ and enter as the spark version\n",
        "# For example:\n",
        "# spark_version = 'spark-3.0.0'\n",
        "spark_version = 'spark-3.0.1'\n",
        "os.environ['SPARK_VERSION']=spark_version\n",
        "\n",
        "# Install Spark and Java\n",
        "!apt-get update\n",
        "!apt-get install openjdk-11-jdk-headless -qq > /dev/null\n",
        "!wget -q http://www-us.apache.org/dist/spark/$SPARK_VERSION/$SPARK_VERSION-bin-hadoop2.7.tgz\n",
        "!tar xf $SPARK_VERSION-bin-hadoop2.7.tgz\n",
        "!pip install -q findspark\n",
        "\n",
        "# Set Environment Variables\n",
        "import os\n",
        "os.environ[\"JAVA_HOME\"] = \"/usr/lib/jvm/java-11-openjdk-amd64\"\n",
        "os.environ[\"SPARK_HOME\"] = f\"/content/{spark_version}-bin-hadoop2.7\"\n",
        "\n",
        "# Start a SparkSession\n",
        "import findspark\n",
        "findspark.init()"
      ],
      "execution_count": 2,
      "outputs": [
        {
          "output_type": "stream",
          "text": [
            "Hit:1 https://cloud.r-project.org/bin/linux/ubuntu bionic-cran40/ InRelease\n",
            "Ign:2 https://developer.download.nvidia.com/compute/cuda/repos/ubuntu1804/x86_64  InRelease\n",
            "Get:3 http://security.ubuntu.com/ubuntu bionic-security InRelease [88.7 kB]\n",
            "Ign:4 https://developer.download.nvidia.com/compute/machine-learning/repos/ubuntu1804/x86_64  InRelease\n",
            "Hit:5 https://developer.download.nvidia.com/compute/cuda/repos/ubuntu1804/x86_64  Release\n",
            "Hit:6 https://developer.download.nvidia.com/compute/machine-learning/repos/ubuntu1804/x86_64  Release\n",
            "Hit:8 http://archive.ubuntu.com/ubuntu bionic InRelease\n",
            "Hit:9 http://ppa.launchpad.net/c2d4u.team/c2d4u4.0+/ubuntu bionic InRelease\n",
            "Get:11 http://archive.ubuntu.com/ubuntu bionic-updates InRelease [88.7 kB]\n",
            "Hit:12 http://ppa.launchpad.net/graphics-drivers/ppa/ubuntu bionic InRelease\n",
            "Get:13 http://archive.ubuntu.com/ubuntu bionic-backports InRelease [74.6 kB]\n",
            "Fetched 252 kB in 2s (110 kB/s)\n",
            "Reading package lists... Done\n"
          ],
          "name": "stdout"
        }
      ]
    },
    {
      "cell_type": "code",
      "metadata": {
        "id": "_xKwTpATHqSe",
        "outputId": "f85c2acb-b289-4ab1-90cc-1eee5f942726",
        "colab": {
          "base_uri": "https://localhost:8080/"
        }
      },
      "source": [
        "# Download the Postgres driver that will allow Spark to interact with Postgres.\n",
        "!wget https://jdbc.postgresql.org/download/postgresql-42.2.16.jar"
      ],
      "execution_count": 3,
      "outputs": [
        {
          "output_type": "stream",
          "text": [
            "--2020-11-09 03:06:33--  https://jdbc.postgresql.org/download/postgresql-42.2.16.jar\n",
            "Resolving jdbc.postgresql.org (jdbc.postgresql.org)... 72.32.157.228, 2001:4800:3e1:1::228\n",
            "Connecting to jdbc.postgresql.org (jdbc.postgresql.org)|72.32.157.228|:443... connected.\n",
            "HTTP request sent, awaiting response... 200 OK\n",
            "Length: 1002883 (979K) [application/java-archive]\n",
            "Saving to: ‘postgresql-42.2.16.jar.1’\n",
            "\n",
            "postgresql-42.2.16. 100%[===================>] 979.38K  1.01MB/s    in 0.9s    \n",
            "\n",
            "2020-11-09 03:06:35 (1.01 MB/s) - ‘postgresql-42.2.16.jar.1’ saved [1002883/1002883]\n",
            "\n"
          ],
          "name": "stdout"
        }
      ]
    },
    {
      "cell_type": "code",
      "metadata": {
        "id": "MMqDAjVS0KN9"
      },
      "source": [
        "from pyspark.sql import SparkSession\n",
        "spark = SparkSession.builder.appName(\"BigData-Challenge\").config(\"spark.driver.extraClassPath\",\"/content/postgresql-42.2.16.jar\").getOrCreate()"
      ],
      "execution_count": 4,
      "outputs": []
    },
    {
      "cell_type": "markdown",
      "metadata": {
        "id": "cyBsySGuY-9V"
      },
      "source": [
        "### Load Amazon Data into Spark DataFrame"
      ]
    },
    {
      "cell_type": "code",
      "metadata": {
        "id": "CtCmBhQJY-9Z",
        "outputId": "5ce7c824-87ba-4955-c830-3a8e528e39c9",
        "colab": {
          "base_uri": "https://localhost:8080/"
        }
      },
      "source": [
        "from pyspark import SparkFiles\n",
        "url = \"https://s3.amazonaws.com/amazon-reviews-pds/tsv/amazon_reviews_us_Books_v1_01.tsv.gz\"\n",
        "spark.sparkContext.addFile(url)\n",
        "df = spark.read.option(\"encoding\", \"UTF-8\").csv(SparkFiles.get(\"\"), sep=\"\\t\", header=True, inferSchema=True)\n",
        "df.show()"
      ],
      "execution_count": 5,
      "outputs": [
        {
          "output_type": "stream",
          "text": [
            "+-----------+-----------+--------------+----------+--------------+--------------------+----------------+-----------+-------------+-----------+----+-----------------+--------------------+--------------------+-----------+\n",
            "|marketplace|customer_id|     review_id|product_id|product_parent|       product_title|product_category|star_rating|helpful_votes|total_votes|vine|verified_purchase|     review_headline|         review_body|review_date|\n",
            "+-----------+-----------+--------------+----------+--------------+--------------------+----------------+-----------+-------------+-----------+----+-----------------+--------------------+--------------------+-----------+\n",
            "|         US|   22480053|R28HBXXO1UEVJT|0843952016|      34858117|          The Rising|           Books|          5|            0|          0|   N|                N|Great Twist on Zo...|I've known about ...| 2012-05-03|\n",
            "|         US|   44244451| RZKRFS2UUMFFU|031088926X|     676347131|Sticky Faith Teen...|           Books|          5|           15|         15|   N|                Y|Helpful and Pract...|The student curri...| 2012-05-03|\n",
            "|         US|   20357422|R2WAU9MD9K6JQA|0615268102|     763837025|Black Passenger Y...|           Books|          3|            6|          8|   N|                N|                Paul|I found \\\\\"Black ...| 2012-05-03|\n",
            "|         US|   13235208|R36SCTKYTVPZPC|1900869225|     785539232|Direction and Des...|           Books|          5|           10|         11|   N|                Y|Direction and Des...|Sasportas is a br...| 2012-05-03|\n",
            "|         US|   26301786|R10BM6JUOJX27Q|1565129938|      64646125| Until the Next Time|           Books|          3|            0|          0|   Y|                N|       This was Okay|I wanted to love ...| 2012-05-03|\n",
            "|         US|   27780192| RCLZ5OKZNUSY4|146854456X|     270349766| Unfinished Business|           Books|          5|            0|          0|   N|                Y|   Excellent read!!!|What an exciting ...| 2012-05-03|\n",
            "|         US|   13041546|R1S65DJYEI89G4|1118094514|     752141158|The Republican Br...|           Books|          4|            8|         17|   N|                N|A must read for s...|This book is exce...| 2012-05-03|\n",
            "|         US|   51692331|R3KQYBQOLYDETV|0563521147|     729491316|Good Food: 101 Ca...|           Books|          4|            2|          2|   N|                N|   Chocoholic heaven|If you are on a d...| 2012-05-03|\n",
            "|         US|   23108524|R3QV8K7CSU8K2W|0669444421|     261004015|Patterns and Quil...|           Books|          5|            0|          0|   N|                N|Quilt Art Project...|Written by quilt ...| 2012-05-03|\n",
            "|         US|   51692331|R3W5A1WUGO5VQ0|1897784457|     497876045|Practical Food Sm...|           Books|          4|            0|          1|   N|                N|         A good read|Food smoking has ...| 2012-05-03|\n",
            "|         US|   49438248|R20AQCY3FMBVN5|0316738158|     691490916|The Big Love: A N...|           Books|          5|            0|          0|   N|                N|One of my favorites!|This is one of my...| 2012-05-03|\n",
            "|         US|   11818020| R7KY8VL871MVL|0738730440|     544176812|Around the Tarot ...|           Books|          5|           13|         15|   N|                Y|A must for tarot ...|I have been waiti...| 2012-05-03|\n",
            "|         US|   51692331| RHF5E4UOL5LQ3|1902842286|     698916699|Favourite Apple R...|           Books|          5|            2|          2|   N|                N|  A good little book|Jane Austen said ...| 2012-05-03|\n",
            "|         US|   29446920|R1LMUDN5M9G6ZZ|1465399577|     922463098|       Kevin and Tak|           Books|          5|            0|          0|   N|                N|            so great|I felt this was a...| 2012-05-03|\n",
            "|         US|   33284115| RNGA47KD4CEB8|0061934704|     740765152|Opium Nation: Chi...|           Books|          5|            0|          0|   N|                N|Knowing Afghanist...|Fariba Nawa, desc...| 2012-05-03|\n",
            "|         US|   44728718|R33MYHP5RY1139|1432729039|     116349266|        True to Life|           Books|          5|            3|          3|   N|                N|Modern poetry tha...|For many, reading...| 2012-05-03|\n",
            "|         US|   52534548|R18VIM840CEFRP|1621360075|     143884185|The Real Kosher J...|           Books|          1|           16|        105|   N|                N|                 SLH|I'm sorry, but ca...| 2012-05-03|\n",
            "|         US|   37836302| RQOZBXX7M0U6H|097723732X|     106641033|Idioms Go To The ...|           Books|          5|            0|          0|   N|                N|         Great book!|The (slightly) ea...| 2012-05-03|\n",
            "|         US|   38588903|R3SH84TAORQP2T|0983945209|     377432437|Elsie -  Adventur...|           Books|          5|            3|          3|   N|                N|      Terrific Book!|By Den Adler<br /...| 2012-05-03|\n",
            "|         US|   49148452| RL1OHWOHPM7RO|1419701630|     307676830|Chuck Close: Face...|           Books|          5|            8|          9|   N|                N|  Close and personal|The autobiography...| 2012-05-03|\n",
            "+-----------+-----------+--------------+----------+--------------+--------------------+----------------+-----------+-------------+-----------+----+-----------------+--------------------+--------------------+-----------+\n",
            "only showing top 20 rows\n",
            "\n"
          ],
          "name": "stdout"
        }
      ]
    },
    {
      "cell_type": "markdown",
      "metadata": {
        "id": "2yUSe55VY-9t"
      },
      "source": [
        "### Create DataFrames to match tables"
      ]
    },
    {
      "cell_type": "code",
      "metadata": {
        "id": "C8REmY1aY-9u",
        "outputId": "a2b23bef-06a8-4575-db7e-2a3eb24f94ff",
        "colab": {
          "base_uri": "https://localhost:8080/"
        }
      },
      "source": [
        "from pyspark.sql.functions import to_date\n",
        "# Read in the Review dataset as a DataFrame\n",
        "df.show()"
      ],
      "execution_count": 6,
      "outputs": [
        {
          "output_type": "stream",
          "text": [
            "+-----------+-----------+--------------+----------+--------------+--------------------+----------------+-----------+-------------+-----------+----+-----------------+--------------------+--------------------+-----------+\n",
            "|marketplace|customer_id|     review_id|product_id|product_parent|       product_title|product_category|star_rating|helpful_votes|total_votes|vine|verified_purchase|     review_headline|         review_body|review_date|\n",
            "+-----------+-----------+--------------+----------+--------------+--------------------+----------------+-----------+-------------+-----------+----+-----------------+--------------------+--------------------+-----------+\n",
            "|         US|   22480053|R28HBXXO1UEVJT|0843952016|      34858117|          The Rising|           Books|          5|            0|          0|   N|                N|Great Twist on Zo...|I've known about ...| 2012-05-03|\n",
            "|         US|   44244451| RZKRFS2UUMFFU|031088926X|     676347131|Sticky Faith Teen...|           Books|          5|           15|         15|   N|                Y|Helpful and Pract...|The student curri...| 2012-05-03|\n",
            "|         US|   20357422|R2WAU9MD9K6JQA|0615268102|     763837025|Black Passenger Y...|           Books|          3|            6|          8|   N|                N|                Paul|I found \\\\\"Black ...| 2012-05-03|\n",
            "|         US|   13235208|R36SCTKYTVPZPC|1900869225|     785539232|Direction and Des...|           Books|          5|           10|         11|   N|                Y|Direction and Des...|Sasportas is a br...| 2012-05-03|\n",
            "|         US|   26301786|R10BM6JUOJX27Q|1565129938|      64646125| Until the Next Time|           Books|          3|            0|          0|   Y|                N|       This was Okay|I wanted to love ...| 2012-05-03|\n",
            "|         US|   27780192| RCLZ5OKZNUSY4|146854456X|     270349766| Unfinished Business|           Books|          5|            0|          0|   N|                Y|   Excellent read!!!|What an exciting ...| 2012-05-03|\n",
            "|         US|   13041546|R1S65DJYEI89G4|1118094514|     752141158|The Republican Br...|           Books|          4|            8|         17|   N|                N|A must read for s...|This book is exce...| 2012-05-03|\n",
            "|         US|   51692331|R3KQYBQOLYDETV|0563521147|     729491316|Good Food: 101 Ca...|           Books|          4|            2|          2|   N|                N|   Chocoholic heaven|If you are on a d...| 2012-05-03|\n",
            "|         US|   23108524|R3QV8K7CSU8K2W|0669444421|     261004015|Patterns and Quil...|           Books|          5|            0|          0|   N|                N|Quilt Art Project...|Written by quilt ...| 2012-05-03|\n",
            "|         US|   51692331|R3W5A1WUGO5VQ0|1897784457|     497876045|Practical Food Sm...|           Books|          4|            0|          1|   N|                N|         A good read|Food smoking has ...| 2012-05-03|\n",
            "|         US|   49438248|R20AQCY3FMBVN5|0316738158|     691490916|The Big Love: A N...|           Books|          5|            0|          0|   N|                N|One of my favorites!|This is one of my...| 2012-05-03|\n",
            "|         US|   11818020| R7KY8VL871MVL|0738730440|     544176812|Around the Tarot ...|           Books|          5|           13|         15|   N|                Y|A must for tarot ...|I have been waiti...| 2012-05-03|\n",
            "|         US|   51692331| RHF5E4UOL5LQ3|1902842286|     698916699|Favourite Apple R...|           Books|          5|            2|          2|   N|                N|  A good little book|Jane Austen said ...| 2012-05-03|\n",
            "|         US|   29446920|R1LMUDN5M9G6ZZ|1465399577|     922463098|       Kevin and Tak|           Books|          5|            0|          0|   N|                N|            so great|I felt this was a...| 2012-05-03|\n",
            "|         US|   33284115| RNGA47KD4CEB8|0061934704|     740765152|Opium Nation: Chi...|           Books|          5|            0|          0|   N|                N|Knowing Afghanist...|Fariba Nawa, desc...| 2012-05-03|\n",
            "|         US|   44728718|R33MYHP5RY1139|1432729039|     116349266|        True to Life|           Books|          5|            3|          3|   N|                N|Modern poetry tha...|For many, reading...| 2012-05-03|\n",
            "|         US|   52534548|R18VIM840CEFRP|1621360075|     143884185|The Real Kosher J...|           Books|          1|           16|        105|   N|                N|                 SLH|I'm sorry, but ca...| 2012-05-03|\n",
            "|         US|   37836302| RQOZBXX7M0U6H|097723732X|     106641033|Idioms Go To The ...|           Books|          5|            0|          0|   N|                N|         Great book!|The (slightly) ea...| 2012-05-03|\n",
            "|         US|   38588903|R3SH84TAORQP2T|0983945209|     377432437|Elsie -  Adventur...|           Books|          5|            3|          3|   N|                N|      Terrific Book!|By Den Adler<br /...| 2012-05-03|\n",
            "|         US|   49148452| RL1OHWOHPM7RO|1419701630|     307676830|Chuck Close: Face...|           Books|          5|            8|          9|   N|                N|  Close and personal|The autobiography...| 2012-05-03|\n",
            "+-----------+-----------+--------------+----------+--------------+--------------------+----------------+-----------+-------------+-----------+----+-----------------+--------------------+--------------------+-----------+\n",
            "only showing top 20 rows\n",
            "\n"
          ],
          "name": "stdout"
        }
      ]
    },
    {
      "cell_type": "code",
      "metadata": {
        "id": "lzMmkdKmY--D",
        "outputId": "36dec2d6-9164-4fde-c67f-5a649bc393fa",
        "colab": {
          "base_uri": "https://localhost:8080/"
        }
      },
      "source": [
        "# Create the vine_table. DataFrame\n",
        "vine_df = df.select([\"review_id\", \"star_rating\", \"helpful_votes\", \"total_votes\", \"vine\", \"verified_purchase\"])\n",
        "vine_df.show()"
      ],
      "execution_count": 7,
      "outputs": [
        {
          "output_type": "stream",
          "text": [
            "+--------------+-----------+-------------+-----------+----+-----------------+\n",
            "|     review_id|star_rating|helpful_votes|total_votes|vine|verified_purchase|\n",
            "+--------------+-----------+-------------+-----------+----+-----------------+\n",
            "|R28HBXXO1UEVJT|          5|            0|          0|   N|                N|\n",
            "| RZKRFS2UUMFFU|          5|           15|         15|   N|                Y|\n",
            "|R2WAU9MD9K6JQA|          3|            6|          8|   N|                N|\n",
            "|R36SCTKYTVPZPC|          5|           10|         11|   N|                Y|\n",
            "|R10BM6JUOJX27Q|          3|            0|          0|   Y|                N|\n",
            "| RCLZ5OKZNUSY4|          5|            0|          0|   N|                Y|\n",
            "|R1S65DJYEI89G4|          4|            8|         17|   N|                N|\n",
            "|R3KQYBQOLYDETV|          4|            2|          2|   N|                N|\n",
            "|R3QV8K7CSU8K2W|          5|            0|          0|   N|                N|\n",
            "|R3W5A1WUGO5VQ0|          4|            0|          1|   N|                N|\n",
            "|R20AQCY3FMBVN5|          5|            0|          0|   N|                N|\n",
            "| R7KY8VL871MVL|          5|           13|         15|   N|                Y|\n",
            "| RHF5E4UOL5LQ3|          5|            2|          2|   N|                N|\n",
            "|R1LMUDN5M9G6ZZ|          5|            0|          0|   N|                N|\n",
            "| RNGA47KD4CEB8|          5|            0|          0|   N|                N|\n",
            "|R33MYHP5RY1139|          5|            3|          3|   N|                N|\n",
            "|R18VIM840CEFRP|          1|           16|        105|   N|                N|\n",
            "| RQOZBXX7M0U6H|          5|            0|          0|   N|                N|\n",
            "|R3SH84TAORQP2T|          5|            3|          3|   N|                N|\n",
            "| RL1OHWOHPM7RO|          5|            8|          9|   N|                N|\n",
            "+--------------+-----------+-------------+-----------+----+-----------------+\n",
            "only showing top 20 rows\n",
            "\n"
          ],
          "name": "stdout"
        }
      ]
    },
    {
      "cell_type": "markdown",
      "metadata": {
        "id": "jITZhLkmY--J"
      },
      "source": [
        "### Vine Table Data Analysis\n"
      ]
    },
    {
      "cell_type": "code",
      "metadata": {
        "id": "7jiUvs1aY--L",
        "outputId": "609a10d8-b4ea-4341-d805-9320d9202edb",
        "colab": {
          "base_uri": "https://localhost:8080/"
        }
      },
      "source": [
        "# retrieve rows where total_votes count is equal to or greater than 20\n",
        "filtered_total_votes = vine_df.filter(\"total_votes>=20\").select(['review_id', 'star_rating', 'helpful_votes', 'vine', 'verified_purchase', 'total_votes'])\n",
        "filtered_total_votes.show()"
      ],
      "execution_count": 8,
      "outputs": [
        {
          "output_type": "stream",
          "text": [
            "+--------------+-----------+-------------+----+-----------------+-----------+\n",
            "|     review_id|star_rating|helpful_votes|vine|verified_purchase|total_votes|\n",
            "+--------------+-----------+-------------+----+-----------------+-----------+\n",
            "|R18VIM840CEFRP|          1|           16|   N|                N|        105|\n",
            "|R14PMAJTY0EAAT|          4|          135|   N|                Y|        142|\n",
            "|R1363VA3TPNLVB|          5|          370|   N|                Y|        388|\n",
            "| RBQZC5A3TSWT5|          5|           11|   N|                Y|         22|\n",
            "| RW00TDPV9U93E|          1|           35|   N|                N|         76|\n",
            "|R3OW0AIVLEDIQ7|          3|           99|   N|                N|        121|\n",
            "|R3DTESO4FUAPKQ|          5|           90|   N|                N|        102|\n",
            "|R18I0XBYWFSR5T|          1|           16|   N|                N|         50|\n",
            "|R1VSQ3QK30VDI0|          5|           23|   N|                N|         35|\n",
            "|R3NEJBF4FXMVUU|          5|           87|   N|                Y|         90|\n",
            "|R34ZTQTHWRHT5R|          5|           18|   N|                Y|         20|\n",
            "|R367X555006ROC|          1|           39|   N|                N|         44|\n",
            "| R4NCMAZCRAXHT|          3|           19|   N|                N|         21|\n",
            "|R1WQJ6BTGTJNHM|          3|            6|   N|                N|         47|\n",
            "|R33JIVA97UYKH2|          2|           23|   N|                Y|         29|\n",
            "| RSD6TF0E24D9P|          5|           30|   N|                Y|         34|\n",
            "|R2DLFW0GMIFTKP|          5|           53|   N|                Y|         58|\n",
            "| RQZ638E0E34Z3|          2|          259|   N|                N|        299|\n",
            "|R2RP1D1I036Q6C|          1|           20|   N|                N|         34|\n",
            "|R3TJPP6SLHXO41|          1|           16|   N|                Y|         27|\n",
            "+--------------+-----------+-------------+----+-----------------+-----------+\n",
            "only showing top 20 rows\n",
            "\n"
          ],
          "name": "stdout"
        }
      ]
    },
    {
      "cell_type": "code",
      "metadata": {
        "id": "Exuo6ebUsCqW",
        "outputId": "dd0b1e2b-f3ad-4f91-b60b-41f476b91e5e",
        "colab": {
          "base_uri": "https://localhost:8080/"
        }
      },
      "source": [
        "# filter Dataframe to retrieve all the rows where the number helpful_votes divided by total_votes is equal to or great than 50%\n",
        "greater_than_50 = filtered_total_votes.filter(\"helpful_votes/total_votes>=0.5\")\n",
        "greater_than_50.show()"
      ],
      "execution_count": 9,
      "outputs": [
        {
          "output_type": "stream",
          "text": [
            "+--------------+-----------+-------------+----+-----------------+-----------+\n",
            "|     review_id|star_rating|helpful_votes|vine|verified_purchase|total_votes|\n",
            "+--------------+-----------+-------------+----+-----------------+-----------+\n",
            "|R14PMAJTY0EAAT|          4|          135|   N|                Y|        142|\n",
            "|R1363VA3TPNLVB|          5|          370|   N|                Y|        388|\n",
            "| RBQZC5A3TSWT5|          5|           11|   N|                Y|         22|\n",
            "|R3OW0AIVLEDIQ7|          3|           99|   N|                N|        121|\n",
            "|R3DTESO4FUAPKQ|          5|           90|   N|                N|        102|\n",
            "|R1VSQ3QK30VDI0|          5|           23|   N|                N|         35|\n",
            "|R3NEJBF4FXMVUU|          5|           87|   N|                Y|         90|\n",
            "|R34ZTQTHWRHT5R|          5|           18|   N|                Y|         20|\n",
            "|R367X555006ROC|          1|           39|   N|                N|         44|\n",
            "| R4NCMAZCRAXHT|          3|           19|   N|                N|         21|\n",
            "|R33JIVA97UYKH2|          2|           23|   N|                Y|         29|\n",
            "| RSD6TF0E24D9P|          5|           30|   N|                Y|         34|\n",
            "|R2DLFW0GMIFTKP|          5|           53|   N|                Y|         58|\n",
            "| RQZ638E0E34Z3|          2|          259|   N|                N|        299|\n",
            "|R2RP1D1I036Q6C|          1|           20|   N|                N|         34|\n",
            "|R3TJPP6SLHXO41|          1|           16|   N|                Y|         27|\n",
            "|R2DK25C3UOICDC|          5|           13|   N|                N|         22|\n",
            "|R3LWNR7QFH1P0U|          1|           18|   N|                N|         24|\n",
            "|R32X7O6DKBEXM0|          5|           25|   N|                N|         26|\n",
            "|R16VVIH03CTRHB|          5|           16|   N|                Y|         25|\n",
            "+--------------+-----------+-------------+----+-----------------+-----------+\n",
            "only showing top 20 rows\n",
            "\n"
          ],
          "name": "stdout"
        }
      ]
    },
    {
      "cell_type": "code",
      "metadata": {
        "id": "egl-egWn0FcY",
        "outputId": "a410f9a4-3f25-4681-c805-c763f1679c42",
        "colab": {
          "base_uri": "https://localhost:8080/"
        }
      },
      "source": [
        "#show percentage of helpful votes\n",
        "greater_than_50_percents = greater_than_50.withColumn('percentage_helpful_vote', greater_than_50.helpful_votes / greater_than_50.total_votes)\n",
        "greater_than_50_percents.show()"
      ],
      "execution_count": 10,
      "outputs": [
        {
          "output_type": "stream",
          "text": [
            "+--------------+-----------+-------------+----+-----------------+-----------+-----------------------+\n",
            "|     review_id|star_rating|helpful_votes|vine|verified_purchase|total_votes|percentage_helpful_vote|\n",
            "+--------------+-----------+-------------+----+-----------------+-----------+-----------------------+\n",
            "|R14PMAJTY0EAAT|          4|          135|   N|                Y|        142|     0.9507042253521126|\n",
            "|R1363VA3TPNLVB|          5|          370|   N|                Y|        388|     0.9536082474226805|\n",
            "| RBQZC5A3TSWT5|          5|           11|   N|                Y|         22|                    0.5|\n",
            "|R3OW0AIVLEDIQ7|          3|           99|   N|                N|        121|     0.8181818181818182|\n",
            "|R3DTESO4FUAPKQ|          5|           90|   N|                N|        102|     0.8823529411764706|\n",
            "|R1VSQ3QK30VDI0|          5|           23|   N|                N|         35|     0.6571428571428571|\n",
            "|R3NEJBF4FXMVUU|          5|           87|   N|                Y|         90|     0.9666666666666667|\n",
            "|R34ZTQTHWRHT5R|          5|           18|   N|                Y|         20|                    0.9|\n",
            "|R367X555006ROC|          1|           39|   N|                N|         44|     0.8863636363636364|\n",
            "| R4NCMAZCRAXHT|          3|           19|   N|                N|         21|     0.9047619047619048|\n",
            "|R33JIVA97UYKH2|          2|           23|   N|                Y|         29|     0.7931034482758621|\n",
            "| RSD6TF0E24D9P|          5|           30|   N|                Y|         34|     0.8823529411764706|\n",
            "|R2DLFW0GMIFTKP|          5|           53|   N|                Y|         58|     0.9137931034482759|\n",
            "| RQZ638E0E34Z3|          2|          259|   N|                N|        299|     0.8662207357859532|\n",
            "|R2RP1D1I036Q6C|          1|           20|   N|                N|         34|     0.5882352941176471|\n",
            "|R3TJPP6SLHXO41|          1|           16|   N|                Y|         27|     0.5925925925925926|\n",
            "|R2DK25C3UOICDC|          5|           13|   N|                N|         22|     0.5909090909090909|\n",
            "|R3LWNR7QFH1P0U|          1|           18|   N|                N|         24|                   0.75|\n",
            "|R32X7O6DKBEXM0|          5|           25|   N|                N|         26|     0.9615384615384616|\n",
            "|R16VVIH03CTRHB|          5|           16|   N|                Y|         25|                   0.64|\n",
            "+--------------+-----------+-------------+----+-----------------+-----------+-----------------------+\n",
            "only showing top 20 rows\n",
            "\n"
          ],
          "name": "stdout"
        }
      ]
    },
    {
      "cell_type": "code",
      "metadata": {
        "id": "VCmgy5dCjZVQ",
        "outputId": "ece02342-508b-4660-f830-0c8b3cd7becd",
        "colab": {
          "base_uri": "https://localhost:8080/"
        }
      },
      "source": [
        "# filter dataframe and create new DataFrame or table that retrieves all the rows where a review was written as part of the vine program (paid), vine == 'Y'\n",
        "vine_program_df = greater_than_50_percents.filter(\"vine=='Y'\")\n",
        "vine_program_df.show()"
      ],
      "execution_count": 11,
      "outputs": [
        {
          "output_type": "stream",
          "text": [
            "+--------------+-----------+-------------+----+-----------------+-----------+-----------------------+\n",
            "|     review_id|star_rating|helpful_votes|vine|verified_purchase|total_votes|percentage_helpful_vote|\n",
            "+--------------+-----------+-------------+----+-----------------+-----------+-----------------------+\n",
            "|R2Z8083V8ZFQVZ|          3|           82|   Y|                N|         87|     0.9425287356321839|\n",
            "| RK25TAO4GGS5G|          3|           22|   Y|                N|         24|     0.9166666666666666|\n",
            "|R2SJQG3C6KY0M8|          3|           18|   Y|                N|         20|                    0.9|\n",
            "|R12CHC0CB2WASU|          5|           43|   Y|                N|         48|     0.8958333333333334|\n",
            "|R2RY328TIDXMTE|          2|           50|   Y|                N|         61|      0.819672131147541|\n",
            "|R3K8OQU4PEP8W7|          4|           40|   Y|                N|         46|     0.8695652173913043|\n",
            "|R1JI1A7JT99538|          3|           28|   Y|                N|         40|                    0.7|\n",
            "|R247K3K5SVPJUL|          3|           15|   Y|                N|         20|                   0.75|\n",
            "|R27UEUDUYPLXZC|          5|           20|   Y|                N|         24|     0.8333333333333334|\n",
            "|R2QQDNBYDIEL9F|          5|           35|   Y|                N|         41|     0.8536585365853658|\n",
            "|R26ELQU09IPX5K|          2|           11|   Y|                N|         21|     0.5238095238095238|\n",
            "| RSKUR90HGW6PY|          3|           34|   Y|                N|         54|     0.6296296296296297|\n",
            "|R1W7MQRB02CRG8|          4|           20|   Y|                N|         22|     0.9090909090909091|\n",
            "|R3LJN6BQL2F0BR|          1|           28|   Y|                N|         34|     0.8235294117647058|\n",
            "|R3FO8YQ2BKL1RG|          5|           93|   Y|                N|         94|     0.9893617021276596|\n",
            "|R27HEI4FN6TZQ7|          3|           20|   Y|                N|         27|     0.7407407407407407|\n",
            "|R3DRE8T4NTEWNV|          5|           28|   Y|                N|         28|                    1.0|\n",
            "|R33G38RMCEXIVD|          4|           28|   Y|                N|         29|     0.9655172413793104|\n",
            "|R2ZD6GIDCKAJNM|          5|          118|   Y|                N|        139|     0.8489208633093526|\n",
            "|R3DKQQNX6X3VTU|          4|           53|   Y|                N|         56|     0.9464285714285714|\n",
            "+--------------+-----------+-------------+----+-----------------+-----------+-----------------------+\n",
            "only showing top 20 rows\n",
            "\n"
          ],
          "name": "stdout"
        }
      ]
    },
    {
      "cell_type": "code",
      "metadata": {
        "id": "GBne1LAAjpy5",
        "outputId": "12d78121-739d-48ee-b4ac-9bb5b3e37d4e",
        "colab": {
          "base_uri": "https://localhost:8080/"
        }
      },
      "source": [
        "# retrieve all the rows where the review was not part of the Vine program (unpaid), vine == 'N'\n",
        "not_vine_program_df = greater_than_50_percents.filter(\"vine=='N'\")\n",
        "not_vine_program_df.show()"
      ],
      "execution_count": 12,
      "outputs": [
        {
          "output_type": "stream",
          "text": [
            "+--------------+-----------+-------------+----+-----------------+-----------+-----------------------+\n",
            "|     review_id|star_rating|helpful_votes|vine|verified_purchase|total_votes|percentage_helpful_vote|\n",
            "+--------------+-----------+-------------+----+-----------------+-----------+-----------------------+\n",
            "|R14PMAJTY0EAAT|          4|          135|   N|                Y|        142|     0.9507042253521126|\n",
            "|R1363VA3TPNLVB|          5|          370|   N|                Y|        388|     0.9536082474226805|\n",
            "| RBQZC5A3TSWT5|          5|           11|   N|                Y|         22|                    0.5|\n",
            "|R3OW0AIVLEDIQ7|          3|           99|   N|                N|        121|     0.8181818181818182|\n",
            "|R3DTESO4FUAPKQ|          5|           90|   N|                N|        102|     0.8823529411764706|\n",
            "|R1VSQ3QK30VDI0|          5|           23|   N|                N|         35|     0.6571428571428571|\n",
            "|R3NEJBF4FXMVUU|          5|           87|   N|                Y|         90|     0.9666666666666667|\n",
            "|R34ZTQTHWRHT5R|          5|           18|   N|                Y|         20|                    0.9|\n",
            "|R367X555006ROC|          1|           39|   N|                N|         44|     0.8863636363636364|\n",
            "| R4NCMAZCRAXHT|          3|           19|   N|                N|         21|     0.9047619047619048|\n",
            "|R33JIVA97UYKH2|          2|           23|   N|                Y|         29|     0.7931034482758621|\n",
            "| RSD6TF0E24D9P|          5|           30|   N|                Y|         34|     0.8823529411764706|\n",
            "|R2DLFW0GMIFTKP|          5|           53|   N|                Y|         58|     0.9137931034482759|\n",
            "| RQZ638E0E34Z3|          2|          259|   N|                N|        299|     0.8662207357859532|\n",
            "|R2RP1D1I036Q6C|          1|           20|   N|                N|         34|     0.5882352941176471|\n",
            "|R3TJPP6SLHXO41|          1|           16|   N|                Y|         27|     0.5925925925925926|\n",
            "|R2DK25C3UOICDC|          5|           13|   N|                N|         22|     0.5909090909090909|\n",
            "|R3LWNR7QFH1P0U|          1|           18|   N|                N|         24|                   0.75|\n",
            "|R32X7O6DKBEXM0|          5|           25|   N|                N|         26|     0.9615384615384616|\n",
            "|R16VVIH03CTRHB|          5|           16|   N|                Y|         25|                   0.64|\n",
            "+--------------+-----------+-------------+----+-----------------+-----------+-----------------------+\n",
            "only showing top 20 rows\n",
            "\n"
          ],
          "name": "stdout"
        }
      ]
    },
    {
      "cell_type": "code",
      "metadata": {
        "id": "-hcO82W7jvhx",
        "outputId": "fd4a848b-0045-4939-cd5d-b0c13c97bfb9",
        "colab": {
          "base_uri": "https://localhost:8080/"
        }
      },
      "source": [
        "# Determine the total number of reviews (paid and unpaid)\n",
        "paid_count = vine_program_df.count()\n",
        "unpaid_count = not_vine_program_df.count()\n",
        "\n",
        "print(paid_count)\n",
        "print(unpaid_count)"
      ],
      "execution_count": 18,
      "outputs": [
        {
          "output_type": "stream",
          "text": [
            "4781\n",
            "332395\n"
          ],
          "name": "stdout"
        }
      ]
    },
    {
      "cell_type": "code",
      "metadata": {
        "id": "ppq8LUJIj5yp",
        "outputId": "71089499-9aa3-405c-9233-443b8a1dd263",
        "colab": {
          "base_uri": "https://localhost:8080/"
        }
      },
      "source": [
        "# the number of 5-star reviews, and the percentage of 5-star reviews for the two types of review (paid).\n",
        "five_star_count = vine_program_df[vine_program_df.star_rating==5].count()\n",
        "print(five_star_count)\n",
        "\n",
        "percent_five_star_paid = five_star_count/paid_count\n",
        "print(percent_five_star_paid)"
      ],
      "execution_count": 19,
      "outputs": [
        {
          "output_type": "stream",
          "text": [
            "1604\n",
            "0.33549466638778497\n"
          ],
          "name": "stdout"
        }
      ]
    },
    {
      "cell_type": "code",
      "metadata": {
        "id": "QOI4Wv5V6yZ9",
        "outputId": "4b2a57e8-229b-4343-df8d-0fd112c8b39e",
        "colab": {
          "base_uri": "https://localhost:8080/"
        }
      },
      "source": [
        "# the number of 5-star reviews, and the percentage of 5-star reviews for the two types of review (unpaid).\n",
        "five_star_count_unpaid = not_vine_program_df[not_vine_program_df.star_rating==5].count()\n",
        "print(five_star_count_unpaid)\n",
        "\n",
        "percent_five_star_unpaid = five_star_count_unpaid/unpaid_count\n",
        "print(percent_five_star_unpaid)"
      ],
      "execution_count": 20,
      "outputs": [
        {
          "output_type": "stream",
          "text": [
            "168800\n",
            "0.5078295401555378\n"
          ],
          "name": "stdout"
        }
      ]
    },
    {
      "cell_type": "code",
      "metadata": {
        "id": "tHESRGHjGWKk"
      },
      "source": [
        ""
      ],
      "execution_count": null,
      "outputs": []
    }
  ]
}